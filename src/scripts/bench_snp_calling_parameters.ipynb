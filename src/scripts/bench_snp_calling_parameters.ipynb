{
 "cells": [
  {
   "cell_type": "code",
   "execution_count": 2,
   "id": "2cd94f25",
   "metadata": {},
   "outputs": [],
   "source": [
    "import collections\n",
    "import os\n",
    "import shutil\n",
    "import numpy as np"
   ]
  },
  {
   "cell_type": "code",
   "execution_count": 3,
   "id": "7d3b2f68",
   "metadata": {},
   "outputs": [],
   "source": [
    "chrom_list = []\n",
    "for i in range(1, 23):\n",
    "    chrom_list.append(str(i))\n",
    "chrom_list.append('X')\n",
    "chrom_list.append('Y')"
   ]
  },
  {
   "cell_type": "code",
   "execution_count": 4,
   "id": "6073b394",
   "metadata": {},
   "outputs": [
    {
     "data": {
      "text/plain": [
       "0"
      ]
     },
     "execution_count": 4,
     "metadata": {},
     "output_type": "execute_result"
    }
   ],
   "source": [
    "# with open('/autofs/bal20/ykzhou/HG00733_ONT_PanGenome/snp_8x_hg38/snp_pass.vcf', 'r') as file:\n",
    "home = '/autofs/bal20/ykzhou/HG00733/'\n",
    "# aln_file = home + 'alns/HG00733_1_Guppy_4.2.2_prom_8X.bam'\n",
    "\n",
    "# ref_file = '/autofs/bal20/ykzhou/ref/hg38.no_alt.fa'\n",
    "\n",
    "snp_home = home + 'snp_8x_012/'\n",
    "phase_home = snp_home + 'phase/'\n",
    "pass_home = phase_home + 'pass/'\n",
    "thres_home = phase_home + 'thres/'\n",
    "all_home = phase_home + 'all/'\n",
    "pileup_home = phase_home + 'pileup/'\n",
    "\n",
    "os.system('mkdir ' + phase_home + ' ' + pass_home + ' ' + thres_home + ' ' + all_home + ' ' + pileup_home)"
   ]
  },
  {
   "cell_type": "code",
   "execution_count": 5,
   "id": "30552485",
   "metadata": {},
   "outputs": [],
   "source": [
    "with open(snp_home + 'merge_output.vcf', 'r') as file:\n",
    "    vcf_raw = file.readlines()\n",
    "vcf_raw = [s.strip() for s in vcf_raw]\n",
    "vcf_raw = [vcf_raw[i].split() for i in range(len(vcf_raw))]\n",
    "snp_passcall = [vcf_raw[i] for i in range(len(vcf_raw)) if vcf_raw[i][0][:3] == 'chr']\n",
    "\n",
    "for snp in range(len(snp_passcall)):\n",
    "    snp_passcall[snp].append(float(snp_passcall[snp][5]))\n",
    "    \n",
    "def score(snp):\n",
    "    return snp[10]\n",
    "\n",
    "snp_passcall.sort(key = score)"
   ]
  },
  {
   "cell_type": "code",
   "execution_count": null,
   "id": "c790c44a",
   "metadata": {},
   "outputs": [],
   "source": [
    "splitted: chr.vcf\n",
    "sorted: chr.vcf\n",
    "phased: phased_chr.vcf\n",
    "bam: chr.bam\n",
    "sam: chr.sam"
   ]
  },
  {
   "cell_type": "code",
   "execution_count": 6,
   "id": "5bfc9f1c",
   "metadata": {},
   "outputs": [],
   "source": [
    "# thres\n",
    "\n",
    "precision = 0.9\n",
    "cutline = round(len(snp_passcall) * (1 - precision))\n",
    "\n",
    "snp_header = [vcf_raw[i] for i in range(len(vcf_raw)) if vcf_raw[i][0][:3] != 'chr']\n",
    "\n",
    "fd = thres_home\n",
    "for ch in range(24):\n",
    "    file = open(fd + 'chr' + chrom_list[ch] + '.vcf', 'w')\n",
    "    for line in snp_header:\n",
    "        if line[0] == '#CHROM':\n",
    "            st = '\\t'.join(line) + '\\n'\n",
    "        else:\n",
    "            st = ' '.join(line) + '\\n'\n",
    "        file.write(st)\n",
    "    chrom_snp = [snp[:-1] for snp in snp_passcall[cutline:] if snp[0] == 'chr' + chrom_list[ch]]\n",
    "    for line in chrom_snp:\n",
    "        st = '\\t'.join(line) + '\\n'\n",
    "        file.write(st)\n",
    "    file.close()\n",
    "    \n",
    "for ch in range(24):\n",
    "    vcf = fd + 'chr' + chrom_list[ch] + '.vcf'\n",
    "    sort_vcf = fd + 'sorted_chr' + chrom_list[ch] + '.vcf'\n",
    "    os.system('bcftools sort ' + vcf + ' > ' + sort_vcf)"
   ]
  },
  {
   "cell_type": "code",
   "execution_count": 7,
   "id": "930c8051",
   "metadata": {},
   "outputs": [],
   "source": [
    "# pass\n",
    "\n",
    "fd = pass_home\n",
    "for ch in range(24):\n",
    "    file = open(fd + 'chr' + chrom_list[ch] + '.vcf', 'w')\n",
    "    for line in snp_header:\n",
    "        if line[0] == '#CHROM':\n",
    "            st = '\\t'.join(line) + '\\n'\n",
    "        else:\n",
    "            st = ' '.join(line) + '\\n'\n",
    "        file.write(st)\n",
    "    chrom_snp = [snp[:-1] for snp in snp_passcall if snp[0] == 'chr' + chrom_list[ch] and snp[6] == 'PASS']\n",
    "    for line in chrom_snp:\n",
    "        st = '\\t'.join(line) + '\\n'\n",
    "        file.write(st)\n",
    "    file.close()\n",
    "    \n",
    "for ch in range(24):\n",
    "    vcf = fd + 'chr' + chrom_list[ch] + '.vcf'\n",
    "    sort_vcf = fd + 'sorted_chr' + chrom_list[ch] + '.vcf'\n",
    "    os.system('bcftools sort ' + vcf + ' > ' + sort_vcf)"
   ]
  },
  {
   "cell_type": "code",
   "execution_count": 8,
   "id": "7ec5578b",
   "metadata": {},
   "outputs": [],
   "source": [
    "# pileup\n",
    "\n",
    "fd = pileup_home\n",
    "for ch in range(24):\n",
    "    file = open(fd + 'chr' + chrom_list[ch] + '.vcf', 'w')\n",
    "    for line in snp_header:\n",
    "        if line[0] == '#CHROM':\n",
    "            st = '\\t'.join(line) + '\\n'\n",
    "        else:\n",
    "            st = ' '.join(line) + '\\n'\n",
    "        file.write(st)\n",
    "    chrom_snp = [snp[:-1] for snp in snp_passcall if snp[0] == 'chr' + chrom_list[ch] and snp[7] == 'P']\n",
    "    for line in chrom_snp:\n",
    "        st = '\\t'.join(line) + '\\n'\n",
    "        file.write(st)\n",
    "    file.close()\n",
    "    \n",
    "for ch in range(24):\n",
    "    vcf = fd + 'chr' + chrom_list[ch] + '.vcf'\n",
    "    sort_vcf = fd + 'sorted_chr' + chrom_list[ch] + '.vcf'\n",
    "    os.system('bcftools sort ' + vcf + ' > ' + sort_vcf)"
   ]
  },
  {
   "cell_type": "code",
   "execution_count": 9,
   "id": "32480873",
   "metadata": {},
   "outputs": [],
   "source": [
    "# all\n",
    "\n",
    "fd = all_home\n",
    "for ch in range(24):\n",
    "    file = open(fd + 'chr' + chrom_list[ch] + '.vcf', 'w')\n",
    "    for line in snp_header:\n",
    "        if line[0] == '#CHROM':\n",
    "            st = '\\t'.join(line) + '\\n'\n",
    "        else:\n",
    "            st = ' '.join(line) + '\\n'\n",
    "        file.write(st)\n",
    "    chrom_snp = [snp[:-1] for snp in snp_passcall if snp[0] == 'chr' + chrom_list[ch]]\n",
    "    for line in chrom_snp:\n",
    "        st = '\\t'.join(line) + '\\n'\n",
    "        file.write(st)\n",
    "    file.close()\n",
    "    \n",
    "for ch in range(24):\n",
    "    vcf = fd + 'chr' + chrom_list[ch] + '.vcf'\n",
    "    sort_vcf = fd + 'sorted_chr' + chrom_list[ch] + '.vcf'\n",
    "    os.system('bcftools sort ' + vcf + ' > ' + sort_vcf)"
   ]
  },
  {
   "cell_type": "code",
   "execution_count": 52,
   "id": "497a3250",
   "metadata": {},
   "outputs": [
    {
     "data": {
      "text/plain": [
       "0"
      ]
     },
     "execution_count": 52,
     "metadata": {},
     "output_type": "execute_result"
    }
   ],
   "source": [
    "os.system('parallel -j40 \"whatshap phase -o ' + pass_home + 'phased_{1}.vcf.gz -r ' + ref_file + \n",
    "          ' --chromosome {1} --distrust-genotypes --ignore-read-groups --output-read-list ' + \n",
    "          pass_home + 'read_{1}.txt ' + pass_home + 'sorted_{1}.vcf ' + aln_file + '\" ::: ${CHR[@]}')"
   ]
  },
  {
   "cell_type": "code",
   "execution_count": 96,
   "id": "b9025b87",
   "metadata": {},
   "outputs": [
    {
     "data": {
      "text/plain": [
       "(531441, 390625)"
      ]
     },
     "execution_count": 96,
     "metadata": {},
     "output_type": "execute_result"
    }
   ],
   "source": [
    "9**6, 5**8"
   ]
  },
  {
   "cell_type": "markdown",
   "id": "17c85723",
   "metadata": {},
   "source": [
    "CHR=(chr1 chr2 chr3 chr4 chr5 chr6 chr7 chr8 chr9 chr10 chr11 chr12 chr13 chr14 chr15 chr16 chr17 chr18 chr19 chr20 chr21 chr22 chrX chrY)\n",
    "HOME=\"/autofs/bal20/ykzhou/HG00733/\"\n",
    "SNP_HOME=${HOME}\"snp_8x_012/\"\n",
    "PHASE_HOME=${SNP_HOME}\"phase/\"\n",
    "PASS_HOME=${PHASE_HOME}\"pass/\"\n",
    "THRES_HOME=${PHASE_HOME}\"thres/\"\n",
    "ALL_HOME=${PHASE_HOME}\"all/\"\n",
    "PILEUP_HOME=${PHASE_HOME}\"pileup/\"\n",
    "cd ${PASS_HOME}\n",
    "for i in ${CHR}\n",
    "do\n",
    "  samtools view -h -@40 ${i}\".bam\" > ${i}\".sam\"\n",
    "done\n",
    "cd ${ALL_HOME}\n",
    "for i in ${CHR}\n",
    "do\n",
    "  samtools view -h -@40 ${i}\".bam\" > ${i}\".sam\"\n",
    "done\n",
    "cd ${PILEUP_HOME}\n",
    "for i in ${CHR}\n",
    "do\n",
    "  samtools view -h -@40 ${i}\".bam\" > ${i}\".sam\"\n",
    "done\n",
    "cd ${THRES_HOME}\n",
    "for i in ${CHR}\n",
    "do\n",
    "  samtools view -h -@40 ${i}\".bam\" > ${i}\".sam\"\n",
    "done"
   ]
  },
  {
   "cell_type": "code",
   "execution_count": 15,
   "id": "a20851e2",
   "metadata": {},
   "outputs": [],
   "source": [
    "fil = [snp[7] for snp in snp_passcall][:cutline]\n",
    "tru = [snp[7] for snp in snp_passcall][cutline + 1:]"
   ]
  },
  {
   "cell_type": "code",
   "execution_count": 35,
   "id": "34cbbe3d",
   "metadata": {},
   "outputs": [
    {
     "data": {
      "text/plain": [
       "6.58"
      ]
     },
     "execution_count": 35,
     "metadata": {},
     "output_type": "execute_result"
    }
   ],
   "source": [
    "snp_passcall[cutline][-1]"
   ]
  },
  {
   "cell_type": "code",
   "execution_count": 20,
   "id": "1db83f87",
   "metadata": {},
   "outputs": [
    {
     "data": {
      "text/plain": [
       "0.08826138459188043"
      ]
     },
     "execution_count": 20,
     "metadata": {},
     "output_type": "execute_result"
    }
   ],
   "source": [
    "len([s for s in tru if s == 'F']) / len(tru)"
   ]
  },
  {
   "cell_type": "code",
   "execution_count": 24,
   "id": "d213fc14",
   "metadata": {},
   "outputs": [
    {
     "data": {
      "text/plain": [
       "22586"
      ]
     },
     "execution_count": 24,
     "metadata": {},
     "output_type": "execute_result"
    }
   ],
   "source": [
    "lowq = [snp[-1] for snp in snp_passcall if snp[6] == 'LowQual']\n",
    "len(lowq)"
   ]
  },
  {
   "cell_type": "code",
   "execution_count": null,
   "id": "d8df1956",
   "metadata": {},
   "outputs": [],
   "source": []
  },
  {
   "cell_type": "code",
   "execution_count": 14,
   "id": "f4164368",
   "metadata": {},
   "outputs": [],
   "source": []
  },
  {
   "cell_type": "code",
   "execution_count": 32,
   "id": "aa69d4b3",
   "metadata": {},
   "outputs": [],
   "source": []
  },
  {
   "cell_type": "code",
   "execution_count": null,
   "id": "e9033be8",
   "metadata": {},
   "outputs": [],
   "source": [
    "# pass_snp, thres_snp, all_snp"
   ]
  }
 ],
 "metadata": {
  "kernelspec": {
   "display_name": "Python 3",
   "language": "python",
   "name": "python3"
  },
  "language_info": {
   "codemirror_mode": {
    "name": "ipython",
    "version": 3
   },
   "file_extension": ".py",
   "mimetype": "text/x-python",
   "name": "python",
   "nbconvert_exporter": "python",
   "pygments_lexer": "ipython3",
   "version": "3.8.10"
  }
 },
 "nbformat": 4,
 "nbformat_minor": 5
}
